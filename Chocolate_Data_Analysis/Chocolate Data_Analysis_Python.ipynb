{
 "cells": [
  {
   "cell_type": "code",
   "execution_count": 1,
   "id": "3d880737",
   "metadata": {},
   "outputs": [],
   "source": [
    "import pandas as pd\n",
    "import numpy as np"
   ]
  },
  {
   "cell_type": "code",
   "execution_count": 2,
   "id": "b04d137f",
   "metadata": {},
   "outputs": [],
   "source": [
    "data = pd.read_excel(r'C:\\Users\\samba\\Downloads\\Purchase Data - Assignment Details.xlsx','data')"
   ]
  },
  {
   "cell_type": "code",
   "execution_count": 3,
   "id": "454ac263",
   "metadata": {},
   "outputs": [
    {
     "data": {
      "text/plain": [
       "(58695, 25)"
      ]
     },
     "execution_count": 3,
     "metadata": {},
     "output_type": "execute_result"
    }
   ],
   "source": [
    "data.shape"
   ]
  },
  {
   "cell_type": "code",
   "execution_count": 4,
   "id": "cf11b41e",
   "metadata": {},
   "outputs": [
    {
     "data": {
      "text/plain": [
       "Index(['Unnamed: 0', 'Data', 'Unnamed: 2', 'Unnamed: 3', 'Unnamed: 4',\n",
       "       'Unnamed: 5', 'Unnamed: 6', 'Unnamed: 7', 'Unnamed: 8', 'Unnamed: 9',\n",
       "       'Unnamed: 10', 'Unnamed: 11', 'Unnamed: 12', 'Unnamed: 13',\n",
       "       'Unnamed: 14', 'Unnamed: 15', 'Unnamed: 16', 'Unnamed: 17',\n",
       "       'Unnamed: 18', 'Unnamed: 19', 'Unnamed: 20', 'Unnamed: 21',\n",
       "       'Unnamed: 22', 'Unnamed: 23', 'Unnamed: 24'],\n",
       "      dtype='object')"
      ]
     },
     "execution_count": 4,
     "metadata": {},
     "output_type": "execute_result"
    }
   ],
   "source": [
    "data.columns"
   ]
  },
  {
   "cell_type": "code",
   "execution_count": 5,
   "id": "94b46d21",
   "metadata": {},
   "outputs": [],
   "source": [
    "data.drop('Unnamed: 0',axis = 1,inplace = True)"
   ]
  },
  {
   "cell_type": "code",
   "execution_count": 6,
   "id": "16b94f9c",
   "metadata": {},
   "outputs": [],
   "source": [
    "data.drop(0,axis = 0,inplace = True)"
   ]
  },
  {
   "cell_type": "code",
   "execution_count": 7,
   "id": "402903e7",
   "metadata": {},
   "outputs": [],
   "source": [
    "data.columns = data.iloc[0]"
   ]
  },
  {
   "cell_type": "code",
   "execution_count": 8,
   "id": "c064bbff",
   "metadata": {},
   "outputs": [],
   "source": [
    "data.set_index('ID',inplace = True)"
   ]
  },
  {
   "cell_type": "code",
   "execution_count": 9,
   "id": "e12c3793",
   "metadata": {},
   "outputs": [
    {
     "data": {
      "text/html": [
       "<div>\n",
       "<style scoped>\n",
       "    .dataframe tbody tr th:only-of-type {\n",
       "        vertical-align: middle;\n",
       "    }\n",
       "\n",
       "    .dataframe tbody tr th {\n",
       "        vertical-align: top;\n",
       "    }\n",
       "\n",
       "    .dataframe thead th {\n",
       "        text-align: right;\n",
       "    }\n",
       "</style>\n",
       "<table border=\"1\" class=\"dataframe\">\n",
       "  <thead>\n",
       "    <tr style=\"text-align: right;\">\n",
       "      <th>1</th>\n",
       "      <th>ID</th>\n",
       "      <th>Day</th>\n",
       "      <th>Incidence</th>\n",
       "      <th>Brand</th>\n",
       "      <th>Quantity</th>\n",
       "      <th>Last_Inc_Brand</th>\n",
       "      <th>Last_Inc_Quantity</th>\n",
       "      <th>Price_1</th>\n",
       "      <th>Price_2</th>\n",
       "      <th>Price_3</th>\n",
       "      <th>...</th>\n",
       "      <th>Promotion_3</th>\n",
       "      <th>Promotion_4</th>\n",
       "      <th>Promotion_5</th>\n",
       "      <th>Sex</th>\n",
       "      <th>Marital status</th>\n",
       "      <th>Age</th>\n",
       "      <th>Education</th>\n",
       "      <th>Income</th>\n",
       "      <th>Occupation</th>\n",
       "      <th>Settlement size</th>\n",
       "    </tr>\n",
       "  </thead>\n",
       "  <tbody>\n",
       "    <tr>\n",
       "      <th>0</th>\n",
       "      <td>ID</td>\n",
       "      <td>Day</td>\n",
       "      <td>Incidence</td>\n",
       "      <td>Brand</td>\n",
       "      <td>Quantity</td>\n",
       "      <td>Last_Inc_Brand</td>\n",
       "      <td>Last_Inc_Quantity</td>\n",
       "      <td>Price_1</td>\n",
       "      <td>Price_2</td>\n",
       "      <td>Price_3</td>\n",
       "      <td>...</td>\n",
       "      <td>Promotion_3</td>\n",
       "      <td>Promotion_4</td>\n",
       "      <td>Promotion_5</td>\n",
       "      <td>Sex</td>\n",
       "      <td>Marital status</td>\n",
       "      <td>Age</td>\n",
       "      <td>Education</td>\n",
       "      <td>Income</td>\n",
       "      <td>Occupation</td>\n",
       "      <td>Settlement size</td>\n",
       "    </tr>\n",
       "    <tr>\n",
       "      <th>1</th>\n",
       "      <td>200000113</td>\n",
       "      <td>5</td>\n",
       "      <td>1</td>\n",
       "      <td>5</td>\n",
       "      <td>2</td>\n",
       "      <td>0</td>\n",
       "      <td>0</td>\n",
       "      <td>1.59</td>\n",
       "      <td>1.87</td>\n",
       "      <td>1.97</td>\n",
       "      <td>...</td>\n",
       "      <td>0</td>\n",
       "      <td>0</td>\n",
       "      <td>0</td>\n",
       "      <td>0</td>\n",
       "      <td>0</td>\n",
       "      <td>75</td>\n",
       "      <td>2</td>\n",
       "      <td>213333</td>\n",
       "      <td>2</td>\n",
       "      <td>1</td>\n",
       "    </tr>\n",
       "    <tr>\n",
       "      <th>2</th>\n",
       "      <td>200000113</td>\n",
       "      <td>15</td>\n",
       "      <td>0</td>\n",
       "      <td>0</td>\n",
       "      <td>0</td>\n",
       "      <td>5</td>\n",
       "      <td>1</td>\n",
       "      <td>1.52</td>\n",
       "      <td>1.89</td>\n",
       "      <td>1.98</td>\n",
       "      <td>...</td>\n",
       "      <td>0</td>\n",
       "      <td>0</td>\n",
       "      <td>0</td>\n",
       "      <td>0</td>\n",
       "      <td>0</td>\n",
       "      <td>75</td>\n",
       "      <td>2</td>\n",
       "      <td>213333</td>\n",
       "      <td>2</td>\n",
       "      <td>1</td>\n",
       "    </tr>\n",
       "    <tr>\n",
       "      <th>3</th>\n",
       "      <td>200000113</td>\n",
       "      <td>22</td>\n",
       "      <td>1</td>\n",
       "      <td>5</td>\n",
       "      <td>3</td>\n",
       "      <td>0</td>\n",
       "      <td>0</td>\n",
       "      <td>1.5</td>\n",
       "      <td>1.9</td>\n",
       "      <td>1.99</td>\n",
       "      <td>...</td>\n",
       "      <td>0</td>\n",
       "      <td>0</td>\n",
       "      <td>0</td>\n",
       "      <td>0</td>\n",
       "      <td>0</td>\n",
       "      <td>75</td>\n",
       "      <td>2</td>\n",
       "      <td>213333</td>\n",
       "      <td>2</td>\n",
       "      <td>1</td>\n",
       "    </tr>\n",
       "    <tr>\n",
       "      <th>4</th>\n",
       "      <td>200000113</td>\n",
       "      <td>26</td>\n",
       "      <td>0</td>\n",
       "      <td>0</td>\n",
       "      <td>0</td>\n",
       "      <td>5</td>\n",
       "      <td>1</td>\n",
       "      <td>1.5</td>\n",
       "      <td>1.9</td>\n",
       "      <td>1.99</td>\n",
       "      <td>...</td>\n",
       "      <td>0</td>\n",
       "      <td>0</td>\n",
       "      <td>0</td>\n",
       "      <td>0</td>\n",
       "      <td>0</td>\n",
       "      <td>75</td>\n",
       "      <td>2</td>\n",
       "      <td>213333</td>\n",
       "      <td>2</td>\n",
       "      <td>1</td>\n",
       "    </tr>\n",
       "    <tr>\n",
       "      <th>...</th>\n",
       "      <td>...</td>\n",
       "      <td>...</td>\n",
       "      <td>...</td>\n",
       "      <td>...</td>\n",
       "      <td>...</td>\n",
       "      <td>...</td>\n",
       "      <td>...</td>\n",
       "      <td>...</td>\n",
       "      <td>...</td>\n",
       "      <td>...</td>\n",
       "      <td>...</td>\n",
       "      <td>...</td>\n",
       "      <td>...</td>\n",
       "      <td>...</td>\n",
       "      <td>...</td>\n",
       "      <td>...</td>\n",
       "      <td>...</td>\n",
       "      <td>...</td>\n",
       "      <td>...</td>\n",
       "      <td>...</td>\n",
       "      <td>...</td>\n",
       "    </tr>\n",
       "    <tr>\n",
       "      <th>58689</th>\n",
       "      <td>200000150</td>\n",
       "      <td>697</td>\n",
       "      <td>1</td>\n",
       "      <td>2</td>\n",
       "      <td>6</td>\n",
       "      <td>0</td>\n",
       "      <td>0</td>\n",
       "      <td>1.42</td>\n",
       "      <td>1.51</td>\n",
       "      <td>1.97</td>\n",
       "      <td>...</td>\n",
       "      <td>0</td>\n",
       "      <td>0</td>\n",
       "      <td>0</td>\n",
       "      <td>1</td>\n",
       "      <td>1</td>\n",
       "      <td>18</td>\n",
       "      <td>1</td>\n",
       "      <td>97741</td>\n",
       "      <td>1</td>\n",
       "      <td>1</td>\n",
       "    </tr>\n",
       "    <tr>\n",
       "      <th>58690</th>\n",
       "      <td>200000150</td>\n",
       "      <td>703</td>\n",
       "      <td>0</td>\n",
       "      <td>0</td>\n",
       "      <td>0</td>\n",
       "      <td>2</td>\n",
       "      <td>1</td>\n",
       "      <td>1.41</td>\n",
       "      <td>1.85</td>\n",
       "      <td>2.01</td>\n",
       "      <td>...</td>\n",
       "      <td>1</td>\n",
       "      <td>0</td>\n",
       "      <td>0</td>\n",
       "      <td>1</td>\n",
       "      <td>1</td>\n",
       "      <td>18</td>\n",
       "      <td>1</td>\n",
       "      <td>97741</td>\n",
       "      <td>1</td>\n",
       "      <td>1</td>\n",
       "    </tr>\n",
       "    <tr>\n",
       "      <th>58691</th>\n",
       "      <td>200000150</td>\n",
       "      <td>710</td>\n",
       "      <td>0</td>\n",
       "      <td>0</td>\n",
       "      <td>0</td>\n",
       "      <td>0</td>\n",
       "      <td>0</td>\n",
       "      <td>1.36</td>\n",
       "      <td>1.84</td>\n",
       "      <td>2.09</td>\n",
       "      <td>...</td>\n",
       "      <td>0</td>\n",
       "      <td>0</td>\n",
       "      <td>0</td>\n",
       "      <td>1</td>\n",
       "      <td>1</td>\n",
       "      <td>18</td>\n",
       "      <td>1</td>\n",
       "      <td>97741</td>\n",
       "      <td>1</td>\n",
       "      <td>1</td>\n",
       "    </tr>\n",
       "    <tr>\n",
       "      <th>58692</th>\n",
       "      <td>200000150</td>\n",
       "      <td>717</td>\n",
       "      <td>0</td>\n",
       "      <td>0</td>\n",
       "      <td>0</td>\n",
       "      <td>0</td>\n",
       "      <td>0</td>\n",
       "      <td>1.5</td>\n",
       "      <td>1.8</td>\n",
       "      <td>2.14</td>\n",
       "      <td>...</td>\n",
       "      <td>0</td>\n",
       "      <td>0</td>\n",
       "      <td>0</td>\n",
       "      <td>1</td>\n",
       "      <td>1</td>\n",
       "      <td>18</td>\n",
       "      <td>1</td>\n",
       "      <td>97741</td>\n",
       "      <td>1</td>\n",
       "      <td>1</td>\n",
       "    </tr>\n",
       "    <tr>\n",
       "      <th>58693</th>\n",
       "      <td>200000150</td>\n",
       "      <td>722</td>\n",
       "      <td>1</td>\n",
       "      <td>2</td>\n",
       "      <td>3</td>\n",
       "      <td>0</td>\n",
       "      <td>0</td>\n",
       "      <td>1.51</td>\n",
       "      <td>1.82</td>\n",
       "      <td>2.09</td>\n",
       "      <td>...</td>\n",
       "      <td>0</td>\n",
       "      <td>0</td>\n",
       "      <td>0</td>\n",
       "      <td>1</td>\n",
       "      <td>1</td>\n",
       "      <td>18</td>\n",
       "      <td>1</td>\n",
       "      <td>97741</td>\n",
       "      <td>1</td>\n",
       "      <td>1</td>\n",
       "    </tr>\n",
       "  </tbody>\n",
       "</table>\n",
       "<p>58694 rows × 24 columns</p>\n",
       "</div>"
      ],
      "text/plain": [
       "1             ID  Day  Incidence  Brand  Quantity  Last_Inc_Brand  \\\n",
       "0             ID  Day  Incidence  Brand  Quantity  Last_Inc_Brand   \n",
       "1      200000113    5          1      5         2               0   \n",
       "2      200000113   15          0      0         0               5   \n",
       "3      200000113   22          1      5         3               0   \n",
       "4      200000113   26          0      0         0               5   \n",
       "...          ...  ...        ...    ...       ...             ...   \n",
       "58689  200000150  697          1      2         6               0   \n",
       "58690  200000150  703          0      0         0               2   \n",
       "58691  200000150  710          0      0         0               0   \n",
       "58692  200000150  717          0      0         0               0   \n",
       "58693  200000150  722          1      2         3               0   \n",
       "\n",
       "1      Last_Inc_Quantity  Price_1  Price_2  Price_3  ...  Promotion_3  \\\n",
       "0      Last_Inc_Quantity  Price_1  Price_2  Price_3  ...  Promotion_3   \n",
       "1                      0     1.59     1.87     1.97  ...            0   \n",
       "2                      1     1.52     1.89     1.98  ...            0   \n",
       "3                      0      1.5      1.9     1.99  ...            0   \n",
       "4                      1      1.5      1.9     1.99  ...            0   \n",
       "...                  ...      ...      ...      ...  ...          ...   \n",
       "58689                  0     1.42     1.51     1.97  ...            0   \n",
       "58690                  1     1.41     1.85     2.01  ...            1   \n",
       "58691                  0     1.36     1.84     2.09  ...            0   \n",
       "58692                  0      1.5      1.8     2.14  ...            0   \n",
       "58693                  0     1.51     1.82     2.09  ...            0   \n",
       "\n",
       "1      Promotion_4  Promotion_5  Sex  Marital status  Age  Education  Income  \\\n",
       "0      Promotion_4  Promotion_5  Sex  Marital status  Age  Education  Income   \n",
       "1                0            0    0               0   75          2  213333   \n",
       "2                0            0    0               0   75          2  213333   \n",
       "3                0            0    0               0   75          2  213333   \n",
       "4                0            0    0               0   75          2  213333   \n",
       "...            ...          ...  ...             ...  ...        ...     ...   \n",
       "58689            0            0    1               1   18          1   97741   \n",
       "58690            0            0    1               1   18          1   97741   \n",
       "58691            0            0    1               1   18          1   97741   \n",
       "58692            0            0    1               1   18          1   97741   \n",
       "58693            0            0    1               1   18          1   97741   \n",
       "\n",
       "1      Occupation  Settlement size  \n",
       "0      Occupation  Settlement size  \n",
       "1               2                1  \n",
       "2               2                1  \n",
       "3               2                1  \n",
       "4               2                1  \n",
       "...           ...              ...  \n",
       "58689           1                1  \n",
       "58690           1                1  \n",
       "58691           1                1  \n",
       "58692           1                1  \n",
       "58693           1                1  \n",
       "\n",
       "[58694 rows x 24 columns]"
      ]
     },
     "execution_count": 9,
     "metadata": {},
     "output_type": "execute_result"
    }
   ],
   "source": [
    "data.reset_index()"
   ]
  },
  {
   "cell_type": "code",
   "execution_count": 10,
   "id": "0934cdb8",
   "metadata": {},
   "outputs": [
    {
     "data": {
      "text/plain": [
       "1\n",
       "Day                  0\n",
       "Incidence            0\n",
       "Brand                0\n",
       "Quantity             0\n",
       "Last_Inc_Brand       0\n",
       "Last_Inc_Quantity    0\n",
       "Price_1              0\n",
       "Price_2              0\n",
       "Price_3              0\n",
       "Price_4              0\n",
       "Price_5              0\n",
       "Promotion_1          0\n",
       "Promotion_2          0\n",
       "Promotion_3          0\n",
       "Promotion_4          0\n",
       "Promotion_5          0\n",
       "Sex                  0\n",
       "Marital status       0\n",
       "Age                  0\n",
       "Education            0\n",
       "Income               0\n",
       "Occupation           0\n",
       "Settlement size      0\n",
       "dtype: int64"
      ]
     },
     "execution_count": 10,
     "metadata": {},
     "output_type": "execute_result"
    }
   ],
   "source": [
    "data.isnull().sum()"
   ]
  },
  {
   "cell_type": "code",
   "execution_count": 11,
   "id": "b67730f1",
   "metadata": {},
   "outputs": [
    {
     "data": {
      "text/html": [
       "<div>\n",
       "<style scoped>\n",
       "    .dataframe tbody tr th:only-of-type {\n",
       "        vertical-align: middle;\n",
       "    }\n",
       "\n",
       "    .dataframe tbody tr th {\n",
       "        vertical-align: top;\n",
       "    }\n",
       "\n",
       "    .dataframe thead th {\n",
       "        text-align: right;\n",
       "    }\n",
       "</style>\n",
       "<table border=\"1\" class=\"dataframe\">\n",
       "  <thead>\n",
       "    <tr style=\"text-align: right;\">\n",
       "      <th>1</th>\n",
       "      <th>Day</th>\n",
       "      <th>Incidence</th>\n",
       "      <th>Brand</th>\n",
       "      <th>Quantity</th>\n",
       "      <th>Last_Inc_Brand</th>\n",
       "      <th>Last_Inc_Quantity</th>\n",
       "      <th>Price_1</th>\n",
       "      <th>Price_2</th>\n",
       "      <th>Price_3</th>\n",
       "      <th>Price_4</th>\n",
       "      <th>...</th>\n",
       "      <th>Promotion_3</th>\n",
       "      <th>Promotion_4</th>\n",
       "      <th>Promotion_5</th>\n",
       "      <th>Sex</th>\n",
       "      <th>Marital status</th>\n",
       "      <th>Age</th>\n",
       "      <th>Education</th>\n",
       "      <th>Income</th>\n",
       "      <th>Occupation</th>\n",
       "      <th>Settlement size</th>\n",
       "    </tr>\n",
       "  </thead>\n",
       "  <tbody>\n",
       "    <tr>\n",
       "      <th>count</th>\n",
       "      <td>58694</td>\n",
       "      <td>58694</td>\n",
       "      <td>58694</td>\n",
       "      <td>58694</td>\n",
       "      <td>58694</td>\n",
       "      <td>58694</td>\n",
       "      <td>58694.00</td>\n",
       "      <td>58694.00</td>\n",
       "      <td>58694.00</td>\n",
       "      <td>58694.00</td>\n",
       "      <td>...</td>\n",
       "      <td>58694</td>\n",
       "      <td>58694</td>\n",
       "      <td>58694</td>\n",
       "      <td>58694</td>\n",
       "      <td>58694</td>\n",
       "      <td>58694</td>\n",
       "      <td>58694</td>\n",
       "      <td>58694</td>\n",
       "      <td>58694</td>\n",
       "      <td>58694</td>\n",
       "    </tr>\n",
       "    <tr>\n",
       "      <th>unique</th>\n",
       "      <td>731</td>\n",
       "      <td>3</td>\n",
       "      <td>7</td>\n",
       "      <td>17</td>\n",
       "      <td>7</td>\n",
       "      <td>3</td>\n",
       "      <td>38.00</td>\n",
       "      <td>31.00</td>\n",
       "      <td>22.00</td>\n",
       "      <td>27.00</td>\n",
       "      <td>...</td>\n",
       "      <td>3</td>\n",
       "      <td>3</td>\n",
       "      <td>3</td>\n",
       "      <td>3</td>\n",
       "      <td>3</td>\n",
       "      <td>57</td>\n",
       "      <td>5</td>\n",
       "      <td>500</td>\n",
       "      <td>4</td>\n",
       "      <td>4</td>\n",
       "    </tr>\n",
       "    <tr>\n",
       "      <th>top</th>\n",
       "      <td>395</td>\n",
       "      <td>0</td>\n",
       "      <td>0</td>\n",
       "      <td>0</td>\n",
       "      <td>0</td>\n",
       "      <td>0</td>\n",
       "      <td>1.47</td>\n",
       "      <td>1.89</td>\n",
       "      <td>1.99</td>\n",
       "      <td>2.21</td>\n",
       "      <td>...</td>\n",
       "      <td>0</td>\n",
       "      <td>0</td>\n",
       "      <td>0</td>\n",
       "      <td>0</td>\n",
       "      <td>0</td>\n",
       "      <td>35</td>\n",
       "      <td>1</td>\n",
       "      <td>124597</td>\n",
       "      <td>1</td>\n",
       "      <td>0</td>\n",
       "    </tr>\n",
       "    <tr>\n",
       "      <th>freq</th>\n",
       "      <td>179</td>\n",
       "      <td>44055</td>\n",
       "      <td>44055</td>\n",
       "      <td>44055</td>\n",
       "      <td>44133</td>\n",
       "      <td>44133</td>\n",
       "      <td>7131.00</td>\n",
       "      <td>20033.00</td>\n",
       "      <td>11053.00</td>\n",
       "      <td>10899.00</td>\n",
       "      <td>...</td>\n",
       "      <td>56181</td>\n",
       "      <td>51776</td>\n",
       "      <td>56588</td>\n",
       "      <td>36044</td>\n",
       "      <td>35620</td>\n",
       "      <td>2859</td>\n",
       "      <td>37161</td>\n",
       "      <td>358</td>\n",
       "      <td>29882</td>\n",
       "      <td>32081</td>\n",
       "    </tr>\n",
       "  </tbody>\n",
       "</table>\n",
       "<p>4 rows × 23 columns</p>\n",
       "</div>"
      ],
      "text/plain": [
       "1         Day  Incidence  Brand  Quantity  Last_Inc_Brand  Last_Inc_Quantity  \\\n",
       "count   58694      58694  58694     58694           58694              58694   \n",
       "unique    731          3      7        17               7                  3   \n",
       "top       395          0      0         0               0                  0   \n",
       "freq      179      44055  44055     44055           44133              44133   \n",
       "\n",
       "1        Price_1   Price_2   Price_3   Price_4  ...  Promotion_3  Promotion_4  \\\n",
       "count   58694.00  58694.00  58694.00  58694.00  ...        58694        58694   \n",
       "unique     38.00     31.00     22.00     27.00  ...            3            3   \n",
       "top         1.47      1.89      1.99      2.21  ...            0            0   \n",
       "freq     7131.00  20033.00  11053.00  10899.00  ...        56181        51776   \n",
       "\n",
       "1       Promotion_5    Sex  Marital status    Age  Education  Income  \\\n",
       "count         58694  58694           58694  58694      58694   58694   \n",
       "unique            3      3               3     57          5     500   \n",
       "top               0      0               0     35          1  124597   \n",
       "freq          56588  36044           35620   2859      37161     358   \n",
       "\n",
       "1       Occupation  Settlement size  \n",
       "count        58694            58694  \n",
       "unique           4                4  \n",
       "top              1                0  \n",
       "freq         29882            32081  \n",
       "\n",
       "[4 rows x 23 columns]"
      ]
     },
     "execution_count": 11,
     "metadata": {},
     "output_type": "execute_result"
    }
   ],
   "source": [
    "data.describe()"
   ]
  },
  {
   "cell_type": "code",
   "execution_count": 12,
   "id": "900f0e8b",
   "metadata": {},
   "outputs": [
    {
     "ename": "KeyError",
     "evalue": "'25%'",
     "output_type": "error",
     "traceback": [
      "\u001b[1;31m---------------------------------------------------------------------------\u001b[0m",
      "\u001b[1;31mKeyError\u001b[0m                                  Traceback (most recent call last)",
      "\u001b[1;32m~\\anaconda3\\lib\\site-packages\\pandas\\core\\indexes\\base.py\u001b[0m in \u001b[0;36mget_loc\u001b[1;34m(self, key, method, tolerance)\u001b[0m\n\u001b[0;32m   3628\u001b[0m             \u001b[1;32mtry\u001b[0m\u001b[1;33m:\u001b[0m\u001b[1;33m\u001b[0m\u001b[1;33m\u001b[0m\u001b[0m\n\u001b[1;32m-> 3629\u001b[1;33m                 \u001b[1;32mreturn\u001b[0m \u001b[0mself\u001b[0m\u001b[1;33m.\u001b[0m\u001b[0m_engine\u001b[0m\u001b[1;33m.\u001b[0m\u001b[0mget_loc\u001b[0m\u001b[1;33m(\u001b[0m\u001b[0mcasted_key\u001b[0m\u001b[1;33m)\u001b[0m\u001b[1;33m\u001b[0m\u001b[1;33m\u001b[0m\u001b[0m\n\u001b[0m\u001b[0;32m   3630\u001b[0m             \u001b[1;32mexcept\u001b[0m \u001b[0mKeyError\u001b[0m \u001b[1;32mas\u001b[0m \u001b[0merr\u001b[0m\u001b[1;33m:\u001b[0m\u001b[1;33m\u001b[0m\u001b[1;33m\u001b[0m\u001b[0m\n",
      "\u001b[1;32m~\\anaconda3\\lib\\site-packages\\pandas\\_libs\\index.pyx\u001b[0m in \u001b[0;36mpandas._libs.index.IndexEngine.get_loc\u001b[1;34m()\u001b[0m\n",
      "\u001b[1;32m~\\anaconda3\\lib\\site-packages\\pandas\\_libs\\index.pyx\u001b[0m in \u001b[0;36mpandas._libs.index.IndexEngine.get_loc\u001b[1;34m()\u001b[0m\n",
      "\u001b[1;32mpandas\\_libs\\hashtable_class_helper.pxi\u001b[0m in \u001b[0;36mpandas._libs.hashtable.PyObjectHashTable.get_item\u001b[1;34m()\u001b[0m\n",
      "\u001b[1;32mpandas\\_libs\\hashtable_class_helper.pxi\u001b[0m in \u001b[0;36mpandas._libs.hashtable.PyObjectHashTable.get_item\u001b[1;34m()\u001b[0m\n",
      "\u001b[1;31mKeyError\u001b[0m: '25%'",
      "\nThe above exception was the direct cause of the following exception:\n",
      "\u001b[1;31mKeyError\u001b[0m                                  Traceback (most recent call last)",
      "\u001b[1;32m~\\AppData\\Local\\Temp\\ipykernel_11620\\775402007.py\u001b[0m in \u001b[0;36m<module>\u001b[1;34m\u001b[0m\n\u001b[0;32m      2\u001b[0m \u001b[0mdata\u001b[0m\u001b[1;33m.\u001b[0m\u001b[0mdescribe\u001b[0m\u001b[1;33m(\u001b[0m\u001b[1;33m)\u001b[0m\u001b[1;33m\u001b[0m\u001b[1;33m\u001b[0m\u001b[0m\n\u001b[0;32m      3\u001b[0m \u001b[1;32mfor\u001b[0m \u001b[0mi\u001b[0m \u001b[1;32min\u001b[0m \u001b[0mcolumns\u001b[0m\u001b[1;33m:\u001b[0m\u001b[1;33m\u001b[0m\u001b[1;33m\u001b[0m\u001b[0m\n\u001b[1;32m----> 4\u001b[1;33m     \u001b[0mQ1\u001b[0m\u001b[1;33m=\u001b[0m\u001b[0mdata\u001b[0m\u001b[1;33m.\u001b[0m\u001b[0mdescribe\u001b[0m\u001b[1;33m(\u001b[0m\u001b[1;33m)\u001b[0m\u001b[1;33m.\u001b[0m\u001b[0mloc\u001b[0m\u001b[1;33m[\u001b[0m\u001b[1;34m\"25%\"\u001b[0m\u001b[1;33m,\u001b[0m\u001b[0mi\u001b[0m\u001b[1;33m]\u001b[0m\u001b[1;33m\u001b[0m\u001b[1;33m\u001b[0m\u001b[0m\n\u001b[0m\u001b[0;32m      5\u001b[0m     \u001b[0mQ3\u001b[0m\u001b[1;33m=\u001b[0m\u001b[0mdata\u001b[0m\u001b[1;33m.\u001b[0m\u001b[0mdescribe\u001b[0m\u001b[1;33m(\u001b[0m\u001b[1;33m)\u001b[0m\u001b[1;33m.\u001b[0m\u001b[0mloc\u001b[0m\u001b[1;33m[\u001b[0m\u001b[1;34m\"75%\"\u001b[0m\u001b[1;33m,\u001b[0m\u001b[0mi\u001b[0m\u001b[1;33m]\u001b[0m\u001b[1;33m\u001b[0m\u001b[1;33m\u001b[0m\u001b[0m\n\u001b[0;32m      6\u001b[0m     \u001b[0mIQR\u001b[0m\u001b[1;33m=\u001b[0m\u001b[0mQ3\u001b[0m\u001b[1;33m-\u001b[0m\u001b[0mQ1\u001b[0m\u001b[1;33m\u001b[0m\u001b[1;33m\u001b[0m\u001b[0m\n",
      "\u001b[1;32m~\\anaconda3\\lib\\site-packages\\pandas\\core\\indexing.py\u001b[0m in \u001b[0;36m__getitem__\u001b[1;34m(self, key)\u001b[0m\n\u001b[0;32m    958\u001b[0m             \u001b[0mkey\u001b[0m \u001b[1;33m=\u001b[0m \u001b[0mtuple\u001b[0m\u001b[1;33m(\u001b[0m\u001b[0mcom\u001b[0m\u001b[1;33m.\u001b[0m\u001b[0mapply_if_callable\u001b[0m\u001b[1;33m(\u001b[0m\u001b[0mx\u001b[0m\u001b[1;33m,\u001b[0m \u001b[0mself\u001b[0m\u001b[1;33m.\u001b[0m\u001b[0mobj\u001b[0m\u001b[1;33m)\u001b[0m \u001b[1;32mfor\u001b[0m \u001b[0mx\u001b[0m \u001b[1;32min\u001b[0m \u001b[0mkey\u001b[0m\u001b[1;33m)\u001b[0m\u001b[1;33m\u001b[0m\u001b[1;33m\u001b[0m\u001b[0m\n\u001b[0;32m    959\u001b[0m             \u001b[1;32mif\u001b[0m \u001b[0mself\u001b[0m\u001b[1;33m.\u001b[0m\u001b[0m_is_scalar_access\u001b[0m\u001b[1;33m(\u001b[0m\u001b[0mkey\u001b[0m\u001b[1;33m)\u001b[0m\u001b[1;33m:\u001b[0m\u001b[1;33m\u001b[0m\u001b[1;33m\u001b[0m\u001b[0m\n\u001b[1;32m--> 960\u001b[1;33m                 \u001b[1;32mreturn\u001b[0m \u001b[0mself\u001b[0m\u001b[1;33m.\u001b[0m\u001b[0mobj\u001b[0m\u001b[1;33m.\u001b[0m\u001b[0m_get_value\u001b[0m\u001b[1;33m(\u001b[0m\u001b[1;33m*\u001b[0m\u001b[0mkey\u001b[0m\u001b[1;33m,\u001b[0m \u001b[0mtakeable\u001b[0m\u001b[1;33m=\u001b[0m\u001b[0mself\u001b[0m\u001b[1;33m.\u001b[0m\u001b[0m_takeable\u001b[0m\u001b[1;33m)\u001b[0m\u001b[1;33m\u001b[0m\u001b[1;33m\u001b[0m\u001b[0m\n\u001b[0m\u001b[0;32m    961\u001b[0m             \u001b[1;32mreturn\u001b[0m \u001b[0mself\u001b[0m\u001b[1;33m.\u001b[0m\u001b[0m_getitem_tuple\u001b[0m\u001b[1;33m(\u001b[0m\u001b[0mkey\u001b[0m\u001b[1;33m)\u001b[0m\u001b[1;33m\u001b[0m\u001b[1;33m\u001b[0m\u001b[0m\n\u001b[0;32m    962\u001b[0m         \u001b[1;32melse\u001b[0m\u001b[1;33m:\u001b[0m\u001b[1;33m\u001b[0m\u001b[1;33m\u001b[0m\u001b[0m\n",
      "\u001b[1;32m~\\anaconda3\\lib\\site-packages\\pandas\\core\\frame.py\u001b[0m in \u001b[0;36m_get_value\u001b[1;34m(self, index, col, takeable)\u001b[0m\n\u001b[0;32m   3620\u001b[0m             \u001b[1;31m#  results if our categories are integers that dont match our codes\u001b[0m\u001b[1;33m\u001b[0m\u001b[1;33m\u001b[0m\u001b[0m\n\u001b[0;32m   3621\u001b[0m             \u001b[1;31m# IntervalIndex: IntervalTree has no get_loc\u001b[0m\u001b[1;33m\u001b[0m\u001b[1;33m\u001b[0m\u001b[0m\n\u001b[1;32m-> 3622\u001b[1;33m             \u001b[0mrow\u001b[0m \u001b[1;33m=\u001b[0m \u001b[0mself\u001b[0m\u001b[1;33m.\u001b[0m\u001b[0mindex\u001b[0m\u001b[1;33m.\u001b[0m\u001b[0mget_loc\u001b[0m\u001b[1;33m(\u001b[0m\u001b[0mindex\u001b[0m\u001b[1;33m)\u001b[0m\u001b[1;33m\u001b[0m\u001b[1;33m\u001b[0m\u001b[0m\n\u001b[0m\u001b[0;32m   3623\u001b[0m             \u001b[1;32mreturn\u001b[0m \u001b[0mseries\u001b[0m\u001b[1;33m.\u001b[0m\u001b[0m_values\u001b[0m\u001b[1;33m[\u001b[0m\u001b[0mrow\u001b[0m\u001b[1;33m]\u001b[0m\u001b[1;33m\u001b[0m\u001b[1;33m\u001b[0m\u001b[0m\n\u001b[0;32m   3624\u001b[0m \u001b[1;33m\u001b[0m\u001b[0m\n",
      "\u001b[1;32m~\\anaconda3\\lib\\site-packages\\pandas\\core\\indexes\\base.py\u001b[0m in \u001b[0;36mget_loc\u001b[1;34m(self, key, method, tolerance)\u001b[0m\n\u001b[0;32m   3629\u001b[0m                 \u001b[1;32mreturn\u001b[0m \u001b[0mself\u001b[0m\u001b[1;33m.\u001b[0m\u001b[0m_engine\u001b[0m\u001b[1;33m.\u001b[0m\u001b[0mget_loc\u001b[0m\u001b[1;33m(\u001b[0m\u001b[0mcasted_key\u001b[0m\u001b[1;33m)\u001b[0m\u001b[1;33m\u001b[0m\u001b[1;33m\u001b[0m\u001b[0m\n\u001b[0;32m   3630\u001b[0m             \u001b[1;32mexcept\u001b[0m \u001b[0mKeyError\u001b[0m \u001b[1;32mas\u001b[0m \u001b[0merr\u001b[0m\u001b[1;33m:\u001b[0m\u001b[1;33m\u001b[0m\u001b[1;33m\u001b[0m\u001b[0m\n\u001b[1;32m-> 3631\u001b[1;33m                 \u001b[1;32mraise\u001b[0m \u001b[0mKeyError\u001b[0m\u001b[1;33m(\u001b[0m\u001b[0mkey\u001b[0m\u001b[1;33m)\u001b[0m \u001b[1;32mfrom\u001b[0m \u001b[0merr\u001b[0m\u001b[1;33m\u001b[0m\u001b[1;33m\u001b[0m\u001b[0m\n\u001b[0m\u001b[0;32m   3632\u001b[0m             \u001b[1;32mexcept\u001b[0m \u001b[0mTypeError\u001b[0m\u001b[1;33m:\u001b[0m\u001b[1;33m\u001b[0m\u001b[1;33m\u001b[0m\u001b[0m\n\u001b[0;32m   3633\u001b[0m                 \u001b[1;31m# If we have a listlike key, _check_indexing_error will raise\u001b[0m\u001b[1;33m\u001b[0m\u001b[1;33m\u001b[0m\u001b[0m\n",
      "\u001b[1;31mKeyError\u001b[0m: '25%'"
     ]
    }
   ],
   "source": [
    "columns = list(data.columns)\n",
    "data.describe()\n",
    "for i in columns:\n",
    "    Q1=data.describe().loc[\"25%\",i]\n",
    "    Q3=data.describe().loc[\"75%\",i]\n",
    "    IQR=Q3-Q1\n",
    "    print(i,data.loc[data[i]<(Q1-IQR*1.5),i].count())\n",
    "    c = (Q1-IQR*1.5)\n",
    "    print(i,data.loc[data[i]>(Q3+IQR*1.5),i].count())\n",
    "    b = (Q3+IQR*1.5)"
   ]
  },
  {
   "cell_type": "code",
   "execution_count": null,
   "id": "76684585",
   "metadata": {},
   "outputs": [],
   "source": [
    "import seaborn as sns\n",
    "import matplotlib.pyplot as plt"
   ]
  },
  {
   "cell_type": "code",
   "execution_count": null,
   "id": "0be5249d",
   "metadata": {},
   "outputs": [],
   "source": [
    "for i in columns:\n",
    "    plt.figure(figsize = (5,5))\n",
    "    sns.boxplot(x = data[i])\n",
    "    plt.plot()"
   ]
  },
  {
   "cell_type": "code",
   "execution_count": null,
   "id": "09194ee4",
   "metadata": {},
   "outputs": [],
   "source": [
    "columns = ['Day','Quantity','Last_Inc_Quantity','Price_1','Price_2','Price_3','Price_4','Price_5','Age','Income']"
   ]
  },
  {
   "cell_type": "code",
   "execution_count": null,
   "id": "dd8a951c",
   "metadata": {},
   "outputs": [],
   "source": [
    "for i in columns:\n",
    "    Q1=data.describe().loc[\"25%\",i]\n",
    "    Q3=data.describe().loc[\"75%\",i]\n",
    "    IQR=Q3-Q1\n",
    "    b = (Q3+IQR*1.5)\n",
    "    c = (Q1-IQR*1.5)\n",
    "    data[i].mask((data[i]>b),data[i].mean(),inplace =True)\n",
    "    data[i].mask((data[i]<c),data[i].mean(),inplace =True)"
   ]
  },
  {
   "cell_type": "code",
   "execution_count": null,
   "id": "af5d9998",
   "metadata": {},
   "outputs": [],
   "source": [
    "data.corr()"
   ]
  },
  {
   "cell_type": "code",
   "execution_count": null,
   "id": "36223238",
   "metadata": {},
   "outputs": [],
   "source": [
    "crossstab = pd.crosstab(data['Occupation'],data['Quantity'])"
   ]
  },
  {
   "cell_type": "code",
   "execution_count": null,
   "id": "fa5ffdb4",
   "metadata": {},
   "outputs": [],
   "source": [
    "from scipy.stats import chi2_contingency"
   ]
  },
  {
   "cell_type": "code",
   "execution_count": null,
   "id": "28a7e409",
   "metadata": {},
   "outputs": [],
   "source": [
    "stat,p,dof,expected = chi2_contingency(crossstab)"
   ]
  },
  {
   "cell_type": "code",
   "execution_count": null,
   "id": "3a7b9744",
   "metadata": {},
   "outputs": [],
   "source": [
    "print(stat,p,dof,expected)"
   ]
  },
  {
   "cell_type": "code",
   "execution_count": null,
   "id": "bccd8bd7",
   "metadata": {},
   "outputs": [],
   "source": [
    "print('p:',p)"
   ]
  },
  {
   "cell_type": "code",
   "execution_count": null,
   "id": "1859c5a5",
   "metadata": {},
   "outputs": [],
   "source": [
    "if   p > 0.05:\n",
    "    print(\"Do not reject the null hypothesis\")\n",
    "else:\n",
    "    print(\"Reject the null hypothesis \")"
   ]
  },
  {
   "cell_type": "markdown",
   "id": "4b5ea503",
   "metadata": {},
   "source": [
    "#### Then Occupation and Quantity are Independent"
   ]
  },
  {
   "cell_type": "code",
   "execution_count": null,
   "id": "2121fcbd",
   "metadata": {},
   "outputs": [],
   "source": [
    "import seaborn as sns\n",
    "import matplotlib.pyplot as plt"
   ]
  },
  {
   "cell_type": "code",
   "execution_count": null,
   "id": "156ad30b",
   "metadata": {},
   "outputs": [],
   "source": [
    "plt.figure(figsize = ((20,20)))\n",
    "sns.heatmap(data=data.corr(),annot = True)\n",
    "plt.show()"
   ]
  },
  {
   "cell_type": "code",
   "execution_count": null,
   "id": "ee3ebcbf",
   "metadata": {},
   "outputs": [],
   "source": [
    "correlation = data.corr()\n",
    "print(correlation.iloc[:,4])"
   ]
  },
  {
   "cell_type": "code",
   "execution_count": null,
   "id": "88b27206",
   "metadata": {},
   "outputs": [],
   "source": [
    "plt.figure(figsize = (30,10))\n",
    "sns.lineplot(data = correlation.iloc[:,4])\n",
    "plt.show()"
   ]
  },
  {
   "cell_type": "code",
   "execution_count": null,
   "id": "0434cf0b",
   "metadata": {},
   "outputs": [],
   "source": [
    "data1 = data.iloc[:,:]"
   ]
  },
  {
   "cell_type": "code",
   "execution_count": null,
   "id": "47fe7efe",
   "metadata": {},
   "outputs": [],
   "source": [
    "data1"
   ]
  },
  {
   "cell_type": "markdown",
   "id": "c61b35a3",
   "metadata": {},
   "source": [
    "## We can Say By This Heat Map The Quantity of Chocolates Will Definately Dependent on Incidence, Brand, Last Inc Brand, Last Inc Quantity. But highly Effected by Incidence and Brand."
   ]
  },
  {
   "cell_type": "code",
   "execution_count": null,
   "id": "68467f12",
   "metadata": {},
   "outputs": [],
   "source": [
    "Brand_Name = []\n",
    "for row in data['Brand']:\n",
    "    if row == 1:   Brand_Name.append('Brand 1')\n",
    "    elif row == 2 :  Brand_Name.append('Brand 2')\n",
    "    elif row == 3:  Brand_Name.append('Brand 3')\n",
    "    elif row == 4:  Brand_Name.append('Brand 4')\n",
    "    elif row ==5:   Brand_Name.append('Brand 5')\n",
    "    else: Brand_Name.append('No Brand')\n",
    "    "
   ]
  },
  {
   "cell_type": "code",
   "execution_count": null,
   "id": "121d4194",
   "metadata": {},
   "outputs": [],
   "source": [
    "data['Brand_Name'] = Brand_Name"
   ]
  },
  {
   "cell_type": "code",
   "execution_count": null,
   "id": "94a41f6f",
   "metadata": {},
   "outputs": [],
   "source": [
    "data = data.drop(['Brand'], axis=1)"
   ]
  },
  {
   "cell_type": "code",
   "execution_count": null,
   "id": "d52a8c4c",
   "metadata": {},
   "outputs": [],
   "source": [
    "Gender = []\n",
    "for row in data['Sex']:\n",
    "    if row == 0:   Gender.append('Male')\n",
    "    else: Gender.append('Female')"
   ]
  },
  {
   "cell_type": "code",
   "execution_count": null,
   "id": "cf9456cc",
   "metadata": {},
   "outputs": [],
   "source": [
    "data['Gender'] = Gender"
   ]
  },
  {
   "cell_type": "code",
   "execution_count": null,
   "id": "b9df5a9e",
   "metadata": {},
   "outputs": [],
   "source": [
    "data = data.drop(['Sex'], axis=1)"
   ]
  },
  {
   "cell_type": "code",
   "execution_count": null,
   "id": "d5f8c51e",
   "metadata": {},
   "outputs": [],
   "source": [
    "data"
   ]
  },
  {
   "cell_type": "code",
   "execution_count": null,
   "id": "ff88b9d5",
   "metadata": {},
   "outputs": [],
   "source": [
    "data['Brand_Name'].unique()"
   ]
  },
  {
   "cell_type": "code",
   "execution_count": null,
   "id": "7dcdf2ce",
   "metadata": {},
   "outputs": [],
   "source": [
    "Brand_data_Sum =data.groupby(by=['Brand_Name']).sum()"
   ]
  },
  {
   "cell_type": "code",
   "execution_count": null,
   "id": "e6cf26fc",
   "metadata": {},
   "outputs": [],
   "source": [
    "Brand_data_Sum"
   ]
  },
  {
   "cell_type": "markdown",
   "id": "da2e9256",
   "metadata": {},
   "source": [
    "## By the Brand_data_sum We Observe that Most of the Quantity is 2 and then 5,4,1,3.\n",
    "## Most of Sales occur in Brand 2 and least sales occur in Brand3"
   ]
  },
  {
   "cell_type": "code",
   "execution_count": null,
   "id": "2a21270f",
   "metadata": {},
   "outputs": [],
   "source": [
    "data_Gender_Sum =data.groupby(by=['Gender']).sum()"
   ]
  },
  {
   "cell_type": "code",
   "execution_count": null,
   "id": "81cebe14",
   "metadata": {},
   "outputs": [],
   "source": [
    "data_Gender_Sum"
   ]
  },
  {
   "cell_type": "code",
   "execution_count": null,
   "id": "f4ede88e",
   "metadata": {},
   "outputs": [],
   "source": [
    "INCIDENCE = []\n",
    "for row in data['Incidence']:\n",
    "    if row == 0:   INCIDENCE.append('Not Purchased')\n",
    "    else: INCIDENCE.append('Purchased')"
   ]
  },
  {
   "cell_type": "code",
   "execution_count": null,
   "id": "1639b4bf",
   "metadata": {},
   "outputs": [],
   "source": [
    "data['INCIDENCE'] = INCIDENCE"
   ]
  },
  {
   "cell_type": "code",
   "execution_count": null,
   "id": "7b788cb4",
   "metadata": {},
   "outputs": [],
   "source": [
    "data = data.drop(['Incidence'], axis=1)"
   ]
  },
  {
   "cell_type": "markdown",
   "id": "3b6d4b7d",
   "metadata": {},
   "source": [
    "## Male Buys More Chocolates when Compare to Female."
   ]
  },
  {
   "cell_type": "code",
   "execution_count": null,
   "id": "dd8a60d5",
   "metadata": {},
   "outputs": [],
   "source": [
    "data_count_Incidence =data.groupby(by=['INCIDENCE']).count()"
   ]
  },
  {
   "cell_type": "code",
   "execution_count": null,
   "id": "f2ecf8c8",
   "metadata": {},
   "outputs": [],
   "source": [
    "data_count_Incidence"
   ]
  },
  {
   "cell_type": "code",
   "execution_count": null,
   "id": "1ce85e64",
   "metadata": {},
   "outputs": [],
   "source": [
    "data_sum_Incidence =data.groupby(by=['INCIDENCE']).sum()"
   ]
  },
  {
   "cell_type": "code",
   "execution_count": null,
   "id": "cf148d50",
   "metadata": {},
   "outputs": [],
   "source": [
    "data_sum_Incidence"
   ]
  },
  {
   "cell_type": "markdown",
   "id": "56a97e7a",
   "metadata": {},
   "source": [
    "## Data Contains Most of Buyers are not Purchased Chocolates based on category of Interest.\n",
    "## Only 14638 Members are Buyed Chocolates Based on Interest"
   ]
  },
  {
   "cell_type": "code",
   "execution_count": null,
   "id": "fd7c144c",
   "metadata": {},
   "outputs": [],
   "source": [
    "Marriage_Status = []\n",
    "for row in data['Marital status']:\n",
    "    if row == 0:   Marriage_Status.append('Single')\n",
    "    else: Marriage_Status.append('Non-Single')"
   ]
  },
  {
   "cell_type": "code",
   "execution_count": null,
   "id": "b9affce6",
   "metadata": {},
   "outputs": [],
   "source": [
    "data['Marriage_Status'] = Marriage_Status"
   ]
  },
  {
   "cell_type": "code",
   "execution_count": null,
   "id": "76afb77b",
   "metadata": {},
   "outputs": [],
   "source": [
    "data = data.drop(['Marital status'], axis=1)"
   ]
  },
  {
   "cell_type": "code",
   "execution_count": null,
   "id": "5c0528da",
   "metadata": {},
   "outputs": [],
   "source": [
    "data_sum_Marital =data.groupby(by=['Marriage_Status']).sum()"
   ]
  },
  {
   "cell_type": "code",
   "execution_count": null,
   "id": "f85883b2",
   "metadata": {},
   "outputs": [],
   "source": [
    "data_sum_Marital"
   ]
  },
  {
   "cell_type": "markdown",
   "id": "3d22209c",
   "metadata": {},
   "source": [
    "## Singles are Buyed More Chocolates when Compared to Married/Divorced/widow"
   ]
  },
  {
   "cell_type": "code",
   "execution_count": null,
   "id": "f0fb4ec9",
   "metadata": {},
   "outputs": [],
   "source": [
    "Education_Status = []\n",
    "for row in data['Education']:\n",
    "    if row == 0:   Education_Status.append('Other')\n",
    "    elif row == 1:   Education_Status.append('High-School')\n",
    "    elif row == 2:   Education_Status.append('University')\n",
    "    else: Education_Status.append('Graduate School')"
   ]
  },
  {
   "cell_type": "code",
   "execution_count": null,
   "id": "c614687a",
   "metadata": {},
   "outputs": [],
   "source": [
    "data['Education_Status'] = Education_Status"
   ]
  },
  {
   "cell_type": "code",
   "execution_count": null,
   "id": "6c183993",
   "metadata": {},
   "outputs": [],
   "source": [
    "data = data.drop(['Education'], axis=1)"
   ]
  },
  {
   "cell_type": "code",
   "execution_count": null,
   "id": "76da25a4",
   "metadata": {},
   "outputs": [],
   "source": [
    "data_sum_Education =data.groupby(by=['Education_Status']).sum()"
   ]
  },
  {
   "cell_type": "code",
   "execution_count": null,
   "id": "a07a8389",
   "metadata": {},
   "outputs": [],
   "source": [
    "data_sum_Education"
   ]
  },
  {
   "cell_type": "code",
   "execution_count": null,
   "id": "31cc01a2",
   "metadata": {},
   "outputs": [],
   "source": [
    "result = data.groupby(['Brand_Name','Gender','Education_Status'])['Education_Status'].aggregate('count')\n",
    "result"
   ]
  },
  {
   "cell_type": "code",
   "execution_count": null,
   "id": "32a06236",
   "metadata": {},
   "outputs": [],
   "source": [
    "sns.distplot(result)\n",
    "plt.plot()"
   ]
  },
  {
   "cell_type": "markdown",
   "id": "0c050c8f",
   "metadata": {},
   "source": [
    "## The More Quantity of Chocolates are Buyed High School and University people. In High School People Mostly Female in Brand1,Brand3,Male in Brand2,Brand 4,Brand5 are there.In University People Mostly Female in Brand1,Brand 4,Male in Brand2,Brand3,Brand5 are there."
   ]
  },
  {
   "cell_type": "code",
   "execution_count": null,
   "id": "cec5fb28",
   "metadata": {},
   "outputs": [],
   "source": [
    "occupation = []\n",
    "for row in data['Occupation']:\n",
    "    if row == 0:   occupation.append('Unskilled/Unemployed')\n",
    "    elif row == 1:   occupation.append('Skilled/employed')\n",
    "    else: occupation.append('Management/Self-employed')"
   ]
  },
  {
   "cell_type": "code",
   "execution_count": null,
   "id": "ef853a50",
   "metadata": {},
   "outputs": [],
   "source": [
    "data['occupation'] = occupation"
   ]
  },
  {
   "cell_type": "code",
   "execution_count": null,
   "id": "afed277d",
   "metadata": {},
   "outputs": [],
   "source": [
    "data = data.drop(['Occupation'], axis=1)"
   ]
  },
  {
   "cell_type": "code",
   "execution_count": null,
   "id": "832d1d71",
   "metadata": {},
   "outputs": [],
   "source": [
    "data_sum_Occupation =data.groupby(by=['occupation']).sum()"
   ]
  },
  {
   "cell_type": "code",
   "execution_count": null,
   "id": "9808af7a",
   "metadata": {},
   "outputs": [],
   "source": [
    "data_sum_Occupation"
   ]
  },
  {
   "cell_type": "code",
   "execution_count": null,
   "id": "b29972e6",
   "metadata": {},
   "outputs": [],
   "source": [
    "result = data.groupby(['Brand_Name','Gender','occupation'])['occupation'].aggregate('count')\n",
    "print(result)"
   ]
  },
  {
   "cell_type": "code",
   "execution_count": null,
   "id": "f4053cb2",
   "metadata": {},
   "outputs": [],
   "source": [
    "sns.distplot(result)\n",
    "plt.plot()"
   ]
  },
  {
   "cell_type": "markdown",
   "id": "e89cc84c",
   "metadata": {},
   "source": [
    "## The More Quantity of Chocolates are Buyed Skilled Employee/Official.In Skilled Employee People Mostly Female in Brand1,Brand 3,Male in Brand2,Brand4,Brand5 are there."
   ]
  },
  {
   "cell_type": "code",
   "execution_count": null,
   "id": "446cd945",
   "metadata": {},
   "outputs": [],
   "source": [
    "data_sum_marital =data.groupby(by=['Marriage_Status']).sum()"
   ]
  },
  {
   "cell_type": "code",
   "execution_count": null,
   "id": "33e1cc0d",
   "metadata": {},
   "outputs": [],
   "source": [
    "data_sum_marital"
   ]
  },
  {
   "cell_type": "code",
   "execution_count": null,
   "id": "2cb6f756",
   "metadata": {},
   "outputs": [],
   "source": [
    "result = data.groupby(['Brand_Name','Gender','Marriage_Status'])['Marriage_Status'].aggregate('count')"
   ]
  },
  {
   "cell_type": "code",
   "execution_count": null,
   "id": "273a3348",
   "metadata": {},
   "outputs": [],
   "source": [
    "result"
   ]
  },
  {
   "cell_type": "code",
   "execution_count": null,
   "id": "7208c8d3",
   "metadata": {},
   "outputs": [],
   "source": [
    "sns.distplot(result)\n",
    "plt.plot()"
   ]
  },
  {
   "cell_type": "markdown",
   "id": "f2c06ca1",
   "metadata": {},
   "source": [
    "## The More Quantity of Chocolates are Buyed Singles.In Singles MostlyMale in Brand1,Brand2,Brand3,Brand 4, Brand 5 are there."
   ]
  },
  {
   "cell_type": "code",
   "execution_count": null,
   "id": "5a463cd1",
   "metadata": {},
   "outputs": [],
   "source": [
    "city = []\n",
    "for row in data['Settlement size']:\n",
    "    if row == 0:   city.append('Small-City')\n",
    "    elif row == 1:   city.append('Middle size-City')\n",
    "    else: city.append('Big-city')"
   ]
  },
  {
   "cell_type": "code",
   "execution_count": null,
   "id": "46014dfa",
   "metadata": {},
   "outputs": [],
   "source": [
    "data['city'] = city"
   ]
  },
  {
   "cell_type": "code",
   "execution_count": null,
   "id": "5f2456b7",
   "metadata": {},
   "outputs": [],
   "source": [
    "data = data.drop(['Settlement size'], axis=1)"
   ]
  },
  {
   "cell_type": "code",
   "execution_count": null,
   "id": "1248fcf5",
   "metadata": {},
   "outputs": [],
   "source": [
    "data_sum_settlement =data.groupby(by=['city']).sum()"
   ]
  },
  {
   "cell_type": "code",
   "execution_count": null,
   "id": "442d7212",
   "metadata": {},
   "outputs": [],
   "source": [
    "data_sum_settlement"
   ]
  },
  {
   "cell_type": "code",
   "execution_count": null,
   "id": "8693df9c",
   "metadata": {},
   "outputs": [],
   "source": [
    "result = data.groupby(['Brand_Name','city','Gender'])['Gender'].aggregate('count')"
   ]
  },
  {
   "cell_type": "code",
   "execution_count": null,
   "id": "affa5381",
   "metadata": {},
   "outputs": [],
   "source": [
    "result"
   ]
  },
  {
   "cell_type": "code",
   "execution_count": null,
   "id": "8097eeea",
   "metadata": {},
   "outputs": [],
   "source": [
    "sns.distplot(result)\n",
    "plt.plot()"
   ]
  },
  {
   "cell_type": "markdown",
   "id": "e707eb7f",
   "metadata": {},
   "source": [
    "## The More Quantity of Chocolates are Buyed in Smallsized Cities. Brand 1 likes in Small sized cities , Female as Gender.Brand 2 likes in Small sized cities , Male as Gender.Brand 3 likes in Small sized cities , Female as Gender. Brand 4 likes in Middle sized cities,Female as Gender. Brand 5 likes in Big sized cities,Male as Gender."
   ]
  },
  {
   "cell_type": "code",
   "execution_count": null,
   "id": "f870e8b4",
   "metadata": {},
   "outputs": [],
   "source": [
    "result = data.groupby(['Brand_Name','city','Marriage_Status'])['Marriage_Status'].aggregate('count')"
   ]
  },
  {
   "cell_type": "code",
   "execution_count": null,
   "id": "4c36ddb5",
   "metadata": {},
   "outputs": [],
   "source": [
    "result"
   ]
  },
  {
   "cell_type": "code",
   "execution_count": null,
   "id": "cae878bf",
   "metadata": {},
   "outputs": [],
   "source": [
    "sns.distplot(result)\n",
    "plt.plot()"
   ]
  },
  {
   "cell_type": "markdown",
   "id": "9469e3f1",
   "metadata": {},
   "source": [
    "## The More Quantity of Chocolates are Buyed in Smallsized Cities. Brand 1 likes in Small sized cities Singles.Brand 2 likes in Small sized cities singles.Brand 3 likes in Small sized cities Married, widows People. Brand 4 likes in Middle sized cities,Married,widow,divorced people. Brand 5 likes in Big sized cities Singles"
   ]
  },
  {
   "cell_type": "code",
   "execution_count": null,
   "id": "9bc8bcb1",
   "metadata": {},
   "outputs": [],
   "source": [
    "Age_group = []\n",
    "for row in data['Age']:\n",
    "    if row >= 18 and row<=30:   Age_group.append('18-30')\n",
    "    elif row >30 and row <=50 :  Age_group.append('31-50')\n",
    "    else: Age_group.append('51-75')"
   ]
  },
  {
   "cell_type": "code",
   "execution_count": null,
   "id": "01ab2171",
   "metadata": {},
   "outputs": [],
   "source": [
    "data['Age_group'] = Age_group"
   ]
  },
  {
   "cell_type": "code",
   "execution_count": null,
   "id": "173f5e5a",
   "metadata": {},
   "outputs": [],
   "source": [
    "data_sum_age =data.groupby(by=['Age_group']).sum()"
   ]
  },
  {
   "cell_type": "code",
   "execution_count": null,
   "id": "dddbf15d",
   "metadata": {},
   "outputs": [],
   "source": [
    "data_sum_age"
   ]
  },
  {
   "cell_type": "code",
   "execution_count": null,
   "id": "ea873bbc",
   "metadata": {},
   "outputs": [],
   "source": [
    "result = data.groupby(['Brand_Name','Age_group','city'])['city'].aggregate('count')"
   ]
  },
  {
   "cell_type": "code",
   "execution_count": null,
   "id": "4cf01342",
   "metadata": {},
   "outputs": [],
   "source": [
    "result"
   ]
  },
  {
   "cell_type": "code",
   "execution_count": null,
   "id": "48c58cf1",
   "metadata": {},
   "outputs": [],
   "source": [
    "sns.distplot(result)\n",
    "plt.plot()"
   ]
  },
  {
   "cell_type": "code",
   "execution_count": null,
   "id": "8982e2fb",
   "metadata": {},
   "outputs": [],
   "source": [
    "result = data.groupby(['Brand_Name','city','Gender','Marriage_Status'])['Marriage_Status'].aggregate('count')\n",
    "result"
   ]
  },
  {
   "cell_type": "code",
   "execution_count": null,
   "id": "3b265126",
   "metadata": {},
   "outputs": [],
   "source": [
    "result = data.groupby(['Brand_Name','city','Gender','Marriage_Status','Education_Status','occupation'])['occupation'].aggregate('count')\n",
    "result"
   ]
  },
  {
   "cell_type": "markdown",
   "id": "bb123475",
   "metadata": {},
   "source": [
    "## The More Quantity of Chocolates are Buyed Age group of 31-50. Brand 1 likes in Small sized cities Age group of 31-50.Brand 2 likes in Small sized cities Age group of 31-50.Brand 3 likes in Small sized cities 18-30 age group, widows People. Brand 4 likes in Middle sized cities 51-75 age group. Brand 5 likes in Big sized cities 31-50 Age Group people."
   ]
  },
  {
   "cell_type": "markdown",
   "id": "00fd0252",
   "metadata": {},
   "source": [
    "# Plots for Easy Understanding"
   ]
  },
  {
   "cell_type": "code",
   "execution_count": null,
   "id": "dfce34ca",
   "metadata": {},
   "outputs": [],
   "source": [
    "sns.violinplot(x = 'Sex',y = 'Quantity',data =data1)\n",
    "plt.show()"
   ]
  },
  {
   "cell_type": "code",
   "execution_count": null,
   "id": "871fc4cc",
   "metadata": {},
   "outputs": [],
   "source": [
    "sns.violinplot(x = 'Settlement size',y = 'Quantity',data =data1,hue = 'Sex',split = True)\n",
    "plt.show()"
   ]
  },
  {
   "cell_type": "code",
   "execution_count": null,
   "id": "e4fa98b5",
   "metadata": {},
   "outputs": [],
   "source": [
    "sns.violinplot(x = 'Marital status',y = 'Quantity',data =data1,hue = 'Sex',split = True)\n",
    "plt.show()"
   ]
  },
  {
   "cell_type": "code",
   "execution_count": null,
   "id": "1a47490d",
   "metadata": {},
   "outputs": [],
   "source": [
    "sns.violinplot(x = 'Education',y = 'Quantity',data =data1,hue = 'Sex',split = True)\n",
    "plt.show()"
   ]
  },
  {
   "cell_type": "code",
   "execution_count": null,
   "id": "82bdbc71",
   "metadata": {},
   "outputs": [],
   "source": [
    "sns.scatterplot(x = 'Brand_Name',y = 'Quantity', data = data,hue = 'Gender')\n",
    "plt.show()"
   ]
  },
  {
   "cell_type": "code",
   "execution_count": null,
   "id": "5eab5c2e",
   "metadata": {},
   "outputs": [],
   "source": [
    "sns.scatterplot(x = 'Brand_Name',y = 'Quantity', data = data,hue = 'occupation')\n",
    "plt.show()"
   ]
  },
  {
   "cell_type": "code",
   "execution_count": null,
   "id": "4540ce51",
   "metadata": {},
   "outputs": [],
   "source": [
    "sns.scatterplot(x = 'Brand_Name',y = 'Quantity', data = data,hue = 'city')\n",
    "plt.show()"
   ]
  },
  {
   "cell_type": "code",
   "execution_count": null,
   "id": "61f146cd",
   "metadata": {},
   "outputs": [],
   "source": [
    "sns.scatterplot(x = 'Brand_Name',y = 'Quantity', data = data,hue = 'Marriage_Status')\n",
    "plt.show()"
   ]
  },
  {
   "cell_type": "code",
   "execution_count": null,
   "id": "93659a69",
   "metadata": {},
   "outputs": [],
   "source": [
    "sns.lineplot(data=data, x=\"Education_Status\", y=\"Quantity\")"
   ]
  },
  {
   "cell_type": "code",
   "execution_count": null,
   "id": "63ad3518",
   "metadata": {},
   "outputs": [],
   "source": [
    "sns.lineplot(data=data, x=\"Age_group\", y=\"Quantity\")"
   ]
  },
  {
   "cell_type": "code",
   "execution_count": null,
   "id": "a42608a9",
   "metadata": {},
   "outputs": [],
   "source": [
    "sns.lineplot(data=Brand_data_Sum, x=\"Brand_Name\", y=\"Quantity\")"
   ]
  },
  {
   "cell_type": "code",
   "execution_count": null,
   "id": "092d1c8c",
   "metadata": {},
   "outputs": [],
   "source": [
    "sns.lineplot(data=data_sum_age, x=\"Age_group\", y=\"Quantity\")"
   ]
  },
  {
   "cell_type": "code",
   "execution_count": null,
   "id": "8b1e2ab7",
   "metadata": {},
   "outputs": [],
   "source": [
    "sns.lineplot(data=data_Gender_Sum, x=\"Gender\", y=\"Quantity\")\n",
    "plt.show()"
   ]
  },
  {
   "cell_type": "code",
   "execution_count": null,
   "id": "616fa72b",
   "metadata": {},
   "outputs": [],
   "source": [
    "sns.lineplot(data=data_sum_Marital, x=\"Marriage_Status\", y=\"Quantity\")\n",
    "plt.show()"
   ]
  },
  {
   "cell_type": "code",
   "execution_count": null,
   "id": "82c39ef3",
   "metadata": {},
   "outputs": [],
   "source": [
    "sns.lineplot(data=data_sum_Education, x=\"Education_Status\", y=\"Quantity\")\n",
    "plt.show()"
   ]
  },
  {
   "cell_type": "code",
   "execution_count": null,
   "id": "bfd1fdf3",
   "metadata": {},
   "outputs": [],
   "source": [
    "sns.lineplot(data=data_sum_settlement, x=\"city\", y=\"Quantity\")\n",
    "plt.show()"
   ]
  },
  {
   "cell_type": "code",
   "execution_count": null,
   "id": "fa236cba",
   "metadata": {},
   "outputs": [],
   "source": [
    "sns.lineplot(data=data_sum_Occupation, x=\"occupation\", y=\"Quantity\")\n",
    "plt.show()"
   ]
  },
  {
   "cell_type": "markdown",
   "id": "6ddb27a2",
   "metadata": {},
   "source": [
    "# Business Insights/Conclusion"
   ]
  },
  {
   "cell_type": "markdown",
   "id": "116a43c8",
   "metadata": {},
   "source": [
    "### By the Brand_data_sum We Observe that Most of the Quantity is 2 and then 5,4,1,3.\n",
    "### Most of Sales occur in Brand 2 and least sales occur in Brand3\n",
    "### Male Buys More Chocolates when Compare to Female.\n",
    "### Data Contains Most of Buyers are not Purchased Chocolates based on category of Interest.\n",
    "### Only 14638 Members are Buyed Chocolates Based on Interest\n",
    "### Singles are Buyed More Chocolates when Compared to Married/Divorced/widow\n",
    "### The More Quantity of Chocolates are Buyed High School and University people. In High School People Mostly Female in Brand1,Brand3,Male in Brand2,Brand 4,Brand5 are there.In University People Mostly Female in Brand1,Brand 4,Male in Brand2,Brand3,Brand5 are there.\n",
    "### The More Quantity of Chocolates are Buyed Skilled Employee/Official.In Skilled Employee People Mostly Female in Brand1,Brand 3,Male in Brand2,Brand4,Brand5 are there.\n",
    "### The More Quantity of Chocolates are Buyed Singles.In Singles MostlyMale in Brand1,Brand2,Brand3,Brand 4, Brand 5 are there.\n",
    "### The More Quantity of Chocolates are Buyed in Smallsized Cities. Brand 1 likes in Small sized cities , Female as Gender.Brand 2 likes in Small sized cities , Male as Gender.Brand 3 likes in Small sized cities , Female as Gender. Brand 4 likes in Middle sized cities,Female as Gender. Brand 5 likes in Big sized cities,Male as Gender.\n",
    "### The More Quantity of Chocolates are Buyed in Smallsized Cities. Brand 1 likes in Small sized cities Singles.Brand 2 likes in Small sized cities singles.Brand 3 likes in Small sized cities Married, widows People. Brand 4 likes in Middle sized cities,Married,widow,divorced people. Brand 5 likes in Big sized cities Singles\n",
    "### The More Quantity of Chocolates are Buyed Age group of 31-50. Brand 1 likes in Small sized cities Age group of 31-50.Brand 2 likes in Small sized cities Age group of 31-50.Brand 3 likes in Small sized cities 18-30 age group, widows People. Brand 4 likes in Middle sized cities 51-75 age group. Brand 5 likes in Big sized cities 31-50 Age Group people.\n",
    "### from Scatter plot We Observe that Males are in Brand 1,2, Females are in Brand 3,4,5"
   ]
  },
  {
   "cell_type": "markdown",
   "id": "fd3f5dcf",
   "metadata": {},
   "source": [
    "# Suggestions or Recommendations"
   ]
  },
  {
   "cell_type": "markdown",
   "id": "898aa24c",
   "metadata": {},
   "source": [
    "### For Brand 1:\n",
    "#### Mostly Target High School Male and Unskilled/management People and Married/Divorced, Try to Target Middle sized and Big size Cities . And Target 18-30 and 50-75 People. That Means Increase Promotions, Discounts,Try to know Interest of People Live in this Categories to improve Sales"
   ]
  },
  {
   "cell_type": "markdown",
   "id": "e67f68f1",
   "metadata": {},
   "source": [
    "### For  Brand 2:\n",
    "#### Mostly Target High School/University Female and Graduated all People and Unskilled and Management Female and Try to Focuse Married/Widow Interest of Flavours and Try to Manufacture That type of Flavours also. and Focus on Big and Middle size cities Female and Target 18-30 and 50-75 People.That Means Increase Promotions, Discounts,Try to know Interest of People Live in this Categories to improve Sales"
   ]
  },
  {
   "cell_type": "markdown",
   "id": "529abb52",
   "metadata": {},
   "source": [
    "### For Brand 3:\n",
    "#### Mostly Target High School Male and University Female and Graduate people and also Skilled Male and Mangement/Unskilled People who are Married/divorced and live in Big/middle size cities Male or Singles and Target 31-75 age Group peoples.That Means Increase Promotions, Discounts,Try to know Interest of People Live in this Categories to improve Sales"
   ]
  },
  {
   "cell_type": "markdown",
   "id": "bc88666f",
   "metadata": {},
   "source": [
    "### For Brand 4:\n",
    "#### Mostly Target High School Female and University Male and Graduate people and also Skilled Male and Mangement/Unskilled People who are Married/divorced and live in Big/Small size cities Male or Singles and Target 31-50 and 18-30 age Group peoples.That Means Increase Promotions, Discounts,Try to know Interest of People Live in this Categories to improve Sales"
   ]
  },
  {
   "cell_type": "markdown",
   "id": "c1cee207",
   "metadata": {},
   "source": [
    "### For Brand 5:\n",
    "#### Mostly Target High School Female and University Female and Graduate people and also Skilled Male and Mangement/Unskilled People who are Married/divorced and live in Middle/Small size cities Female or Married/Divorced and Target 50-75 and 18-30 age Group peoples.That Means Increase Promotions, Discounts,Try to know Interest of People Live in this Categories to improve Sales"
   ]
  },
  {
   "cell_type": "markdown",
   "id": "cc61c07f",
   "metadata": {},
   "source": [
    "## ** Use Business Insights to Promote or To do Suggestions. That means Customers Who Purchase More Sales in that Brand. Use That Customer are give offer When He/She Promotes Under Category of Suggestions. For Brand 1,3 Please improve Quality to Get More Sales"
   ]
  },
  {
   "cell_type": "markdown",
   "id": "a603dd44",
   "metadata": {},
   "source": [
    "# Creating Model for finding Quantity"
   ]
  },
  {
   "cell_type": "code",
   "execution_count": null,
   "id": "6a96112f",
   "metadata": {},
   "outputs": [],
   "source": [
    "from sklearn.model_selection import train_test_split\n",
    "from sklearn.preprocessing import StandardScaler\n",
    "from sklearn.linear_model import LogisticRegression\n",
    "from sklearn.metrics import accuracy_score,confusion_matrix"
   ]
  },
  {
   "cell_type": "code",
   "execution_count": null,
   "id": "fa2512be",
   "metadata": {},
   "outputs": [],
   "source": [
    "data1.columns"
   ]
  },
  {
   "cell_type": "code",
   "execution_count": null,
   "id": "afb74802",
   "metadata": {},
   "outputs": [],
   "source": [
    "data1.drop(['Brand_Name'],axis = 1,inplace = True)"
   ]
  },
  {
   "cell_type": "code",
   "execution_count": null,
   "id": "0fababeb",
   "metadata": {},
   "outputs": [],
   "source": [
    "features = list(set(data1.columns)-set([\"Brand\"]))\n",
    "target = list([\"Brand\"])\n",
    "\n",
    "x = data1[features].values\n",
    "y = data1[target].values\n",
    "\n",
    "train_x,test_x,train_y,test_y = train_test_split(x,y,test_size = 0.3,random_state=0)\n",
    "\n",
    "scaler = StandardScaler()\n",
    "scaler.fit(train_x)\n",
    "train_x =scaler.transform(train_x)\n",
    "test_x = scaler.transform(test_x)\n",
    "\n",
    "logistic = LogisticRegression()\n",
    "logistic.fit(train_x,train_y.ravel())\n",
    "\n",
    "pred_logistic = logistic.predict(test_x)\n",
    "print(pred_logistic)\n",
    "\n",
    "confusion_matrix = confusion_matrix(pred_logistic,test_y)\n",
    "print(confusion_matrix)\n",
    "\n",
    "import seaborn as sns\n",
    "plt.figure(figsize=(10,10))\n",
    "sns.heatmap(confusion_matrix,annot=True)\n",
    "plt.xlabel(\"Predicted\")\n",
    "plt.ylabel(\"Actual\")\n",
    "plt.show()\n",
    "\n",
    "accuracy_logistic = accuracy_score(pred_logistic,test_y)\n",
    "print(\"accuracy_score_logistic :\",accuracy_logistic)\n",
    "\n",
    "print(\"Misclassified Samples :\",(test_y != pred_logistic).sum())\n",
    "print(\"Classified Samples:\",(test_y == pred_logistic).sum())"
   ]
  },
  {
   "cell_type": "code",
   "execution_count": null,
   "id": "60c11c07",
   "metadata": {},
   "outputs": [],
   "source": [
    "data1 = data1.astype('float')"
   ]
  },
  {
   "cell_type": "code",
   "execution_count": null,
   "id": "9b4a50f1",
   "metadata": {},
   "outputs": [],
   "source": [
    "# RandomForest Classifier\n",
    "from sklearn.metrics import mean_squared_error\n",
    "from pprint import pprint\n",
    "from sklearn.model_selection import RandomizedSearchCV\n",
    "from sklearn.ensemble import RandomForestClassifier\n",
    "\n",
    "features = list(set(data1.columns)-set([\"Brand\"]))\n",
    "target = list([\"Brand\"])\n",
    "\n",
    "x = data1[features].values\n",
    "y = data1[target].values\n",
    "\n",
    "train_x,test_x,train_y,test_y = train_test_split(x,y,test_size = 0.3,random_state=1)\n",
    "\n",
    "scaler = StandardScaler()\n",
    "scaler.fit(train_x)\n",
    "train_x =scaler.transform(train_x)\n",
    "test_x = scaler.transform(test_x)\n",
    "\n",
    "rf = RandomForestClassifier(n_estimators=100,random_state=1)\n",
    "rf.fit(train_x,train_y.ravel())\n",
    "\n",
    "pred_rf = rf.predict(test_x)\n",
    "\n",
    "rf_rmse = (mean_squared_error(test_y,pred_rf))**0.5\n",
    "rf_rmse\n",
    "\n",
    "#confusion_matrix = confusion_matrix(test_y.ravel(),pred_rf)\n",
    "#print(confusion_matrix)\n",
    "\n",
    "\"\"\"import seaborn as sns\n",
    "plt.figure(figsize=(10,10))\n",
    "sns.heatmap(confusion_matrix,annot=True)\n",
    "plt.xlabel(\"Predicted\")\n",
    "plt.ylabel(\"Actual\")\n",
    "plt.show()'\"\"\"\n",
    "\n",
    "accuracy_RF = accuracy_score(test_y,pred_rf)\n",
    "print(\"accuracy_RF:\",accuracy_RF)"
   ]
  },
  {
   "cell_type": "code",
   "execution_count": null,
   "id": "f2c88a1f",
   "metadata": {},
   "outputs": [],
   "source": [
    "print(\"Misclassified Samples :\",(test_y != pred_rf).sum())\n",
    "print(\"Classified Samples:\",(test_y == pred_rf).sum())"
   ]
  },
  {
   "cell_type": "markdown",
   "id": "eb100dc6",
   "metadata": {},
   "source": [
    "# So We Use Random forest and Logistic Regression Models"
   ]
  },
  {
   "cell_type": "code",
   "execution_count": null,
   "id": "e158113d",
   "metadata": {},
   "outputs": [],
   "source": [
    "data1[features]"
   ]
  },
  {
   "cell_type": "code",
   "execution_count": null,
   "id": "ee42836f",
   "metadata": {},
   "outputs": [],
   "source": [
    "features"
   ]
  },
  {
   "cell_type": "code",
   "execution_count": null,
   "id": "b2ed7d34",
   "metadata": {},
   "outputs": [],
   "source": [
    "x = np.array([1,1,2.1,70688,1.50,1.5,0.35,1,2,35,1,0,1,600,2.9,2,0,2.1,0,13000,0,0,2.0])"
   ]
  },
  {
   "cell_type": "code",
   "execution_count": null,
   "id": "e659e36e",
   "metadata": {},
   "outputs": [],
   "source": [
    "x = x.reshape(1,-1)"
   ]
  },
  {
   "cell_type": "code",
   "execution_count": null,
   "id": "fcf90a86",
   "metadata": {},
   "outputs": [],
   "source": [
    "x = scaler.fit_transform(x)"
   ]
  },
  {
   "cell_type": "code",
   "execution_count": null,
   "id": "c60a3811",
   "metadata": {},
   "outputs": [],
   "source": [
    "x"
   ]
  },
  {
   "cell_type": "code",
   "execution_count": null,
   "id": "a57004df",
   "metadata": {},
   "outputs": [],
   "source": [
    "logistic.predict(x.reshape(1,-1))"
   ]
  },
  {
   "cell_type": "code",
   "execution_count": null,
   "id": "3f2fbbe1",
   "metadata": {},
   "outputs": [],
   "source": [
    "rf.predict(x)"
   ]
  },
  {
   "cell_type": "markdown",
   "id": "d413d603",
   "metadata": {},
   "source": [
    "# Both Models Says that this values are Brand 0. No Chololate buying in this store."
   ]
  },
  {
   "cell_type": "code",
   "execution_count": null,
   "id": "3de55031",
   "metadata": {},
   "outputs": [],
   "source": []
  }
 ],
 "metadata": {
  "kernelspec": {
   "display_name": "Python 3 (ipykernel)",
   "language": "python",
   "name": "python3"
  },
  "language_info": {
   "codemirror_mode": {
    "name": "ipython",
    "version": 3
   },
   "file_extension": ".py",
   "mimetype": "text/x-python",
   "name": "python",
   "nbconvert_exporter": "python",
   "pygments_lexer": "ipython3",
   "version": "3.9.13"
  }
 },
 "nbformat": 4,
 "nbformat_minor": 5
}
